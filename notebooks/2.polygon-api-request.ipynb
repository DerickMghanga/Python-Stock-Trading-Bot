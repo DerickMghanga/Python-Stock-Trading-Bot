{
 "cells": [
  {
   "cell_type": "code",
   "execution_count": 6,
   "id": "27133281-f293-4a6f-b9c8-9996899400e2",
   "metadata": {},
   "outputs": [],
   "source": [
    "from decouple import config"
   ]
  },
  {
   "cell_type": "code",
   "execution_count": 7,
   "id": "1a6645db-a30f-41ff-b7d8-d7da3d453309",
   "metadata": {},
   "outputs": [],
   "source": [
    "assert config(\"POLYGON_API_KEY\", default=None, cast=str) is not None"
   ]
  },
  {
   "cell_type": "code",
   "execution_count": 10,
   "id": "b3718220-341f-4681-b848-ea1d48c139ae",
   "metadata": {},
   "outputs": [],
   "source": [
    "POLYGON_API_KEY = config(\"POLYGON_API_KEY\", default=None, cast=str)"
   ]
  },
  {
   "cell_type": "code",
   "execution_count": 57,
   "id": "5c0da07d-6ad6-4150-94be-7ed228e26fe3",
   "metadata": {},
   "outputs": [],
   "source": [
    "import requests\n",
    "\n",
    "# polygon api path format = /v2/aggs/ticker/{stocksTicker}/range/{multiplier}/{timespan}/{from}/{to}\n",
    "ticker = \"AAPL\"  # company's symbol in stocks\n",
    "multiplier = \"5\"\n",
    "timespan = \"minute\"\n",
    "from_date = \"2024-11-30\"\n",
    "to_date = \"2024-12-01\"\n",
    "\n",
    "path = f\"/v2/aggs/ticker/{ticker}/range/{multiplier}/{timespan}/{from_date}/{to_date}\"\n",
    "url = f\"https://api.polygon.io{path}?apiKey={POLYGON_API_KEY}\"\n",
    "\n",
    "response = requests.get(url)\n",
    "data = response.json()"
   ]
  },
  {
   "cell_type": "code",
   "execution_count": 58,
   "id": "06f828ca-d22f-4975-af31-090469db8470",
   "metadata": {
    "scrolled": true
   },
   "outputs": [
    {
     "data": {
      "text/plain": [
       "{'ticker': 'AAPL',\n",
       " 'queryCount': 0,\n",
       " 'resultsCount': 0,\n",
       " 'adjusted': True,\n",
       " 'status': 'OK',\n",
       " 'request_id': 'b1be2ce08cbd76f2bc3bba149b155499'}"
      ]
     },
     "execution_count": 58,
     "metadata": {},
     "output_type": "execute_result"
    }
   ],
   "source": [
    "data"
   ]
  }
 ],
 "metadata": {
  "kernelspec": {
   "display_name": "Python 3 (ipykernel)",
   "language": "python",
   "name": "python3"
  },
  "language_info": {
   "codemirror_mode": {
    "name": "ipython",
    "version": 3
   },
   "file_extension": ".py",
   "mimetype": "text/x-python",
   "name": "python",
   "nbconvert_exporter": "python",
   "pygments_lexer": "ipython3",
   "version": "3.12.3"
  }
 },
 "nbformat": 4,
 "nbformat_minor": 5
}
