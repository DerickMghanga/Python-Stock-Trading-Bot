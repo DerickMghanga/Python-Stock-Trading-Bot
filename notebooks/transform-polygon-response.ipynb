{
 "cells": [
  {
   "cell_type": "code",
   "execution_count": 2,
   "id": "27133281-f293-4a6f-b9c8-9996899400e2",
   "metadata": {},
   "outputs": [],
   "source": [
    "from decouple import config"
   ]
  },
  {
   "cell_type": "code",
   "execution_count": 3,
   "id": "1a6645db-a30f-41ff-b7d8-d7da3d453309",
   "metadata": {},
   "outputs": [],
   "source": [
    "assert config(\"POLYGON_API_KEY\", default=None, cast=str) is not None"
   ]
  },
  {
   "cell_type": "code",
   "execution_count": 4,
   "id": "b3718220-341f-4681-b848-ea1d48c139ae",
   "metadata": {},
   "outputs": [],
   "source": [
    "POLYGON_API_KEY = config(\"POLYGON_API_KEY\", default=None, cast=str)"
   ]
  },
  {
   "cell_type": "code",
   "execution_count": 11,
   "id": "5c0da07d-6ad6-4150-94be-7ed228e26fe3",
   "metadata": {},
   "outputs": [],
   "source": [
    "import requests\n",
    "\n",
    "# polygon api path format = /v2/aggs/ticker/{stocksTicker}/range/{multiplier}/{timespan}/{from}/{to}\n",
    "ticker = \"AAPL\"  # company's symbol in stocks\n",
    "multiplier = \"1\"\n",
    "timespan = \"day\"\n",
    "from_date = \"2024-11-02\"\n",
    "to_date = \"2024-12-29\"\n",
    "\n",
    "path = f\"/v2/aggs/ticker/{ticker}/range/{multiplier}/{timespan}/{from_date}/{to_date}\"\n",
    "url = f\"https://api.polygon.io{path}?apiKey={POLYGON_API_KEY}\"\n",
    "\n",
    "response = requests.get(url)\n",
    "data = response.json()"
   ]
  },
  {
   "cell_type": "code",
   "execution_count": 14,
   "id": "ab2cd23b-8c48-4fe8-b711-cc476d017a64",
   "metadata": {},
   "outputs": [
    {
     "data": {
      "text/plain": [
       "{'v': 40921729.0,\n",
       " 'vw': 221.7547,\n",
       " 'o': 220.99,\n",
       " 'c': 222.01,\n",
       " 'h': 222.79,\n",
       " 'l': 219.71,\n",
       " 't': 1730696400000,\n",
       " 'n': 647102}"
      ]
     },
     "execution_count": 14,
     "metadata": {},
     "output_type": "execute_result"
    }
   ],
   "source": [
    "result = data['results'][0]\n",
    "result"
   ]
  },
  {
   "cell_type": "code",
   "execution_count": 23,
   "id": "639ac6fc-a88f-4708-bc27-99725838ee43",
   "metadata": {},
   "outputs": [
    {
     "data": {
      "text/plain": [
       "{'open_price': 220.99,\n",
       " 'close_price': 222.01,\n",
       " 'high_price': 222.79,\n",
       " 'low_price': 219.71,\n",
       " 'number_of_trades': 647102,\n",
       " 'volume': 40921729.0,\n",
       " 'volume_weighted_average': 221.7547,\n",
       " 'time': datetime.datetime(2024, 11, 4, 5, 0, tzinfo=<UTC>)}"
      ]
     },
     "execution_count": 23,
     "metadata": {},
     "output_type": "execute_result"
    }
   ],
   "source": [
    "from datetime import datetime\n",
    "import pytz\n",
    "\n",
    "def transform_polygon_result(result):\n",
    "    unix_timestamp = result.get('t')/1000\n",
    "    utc_timestamp = datetime.fromtimestamp(unix_timestamp, tz=pytz.timezone(\"UTC\"))\n",
    "    #print(utc_timestamp)\n",
    "    return{\n",
    "        \"open_price\" : result[\"o\"],\n",
    "        \"close_price\" : result[\"c\"],\n",
    "        \"high_price\" : result[\"h\"],\n",
    "        \"low_price\" : result[\"l\"],\n",
    "        \"number_of_trades\" : result[\"n\"],\n",
    "        \"volume\" : result[\"v\"],\n",
    "        \"volume_weighted_average\" : result[\"vw\"],\n",
    "        \"time\" : utc_timestamp,\n",
    "    }\n",
    "\n",
    "transform_polygon_result(result)"
   ]
  }
 ],
 "metadata": {
  "kernelspec": {
   "display_name": "Python 3 (ipykernel)",
   "language": "python",
   "name": "python3"
  },
  "language_info": {
   "codemirror_mode": {
    "name": "ipython",
    "version": 3
   },
   "file_extension": ".py",
   "mimetype": "text/x-python",
   "name": "python",
   "nbconvert_exporter": "python",
   "pygments_lexer": "ipython3",
   "version": "3.12.3"
  }
 },
 "nbformat": 4,
 "nbformat_minor": 5
}
