{
 "cells": [
  {
   "cell_type": "code",
   "execution_count": 1,
   "id": "27133281-f293-4a6f-b9c8-9996899400e2",
   "metadata": {},
   "outputs": [],
   "source": [
    "from decouple import config"
   ]
  },
  {
   "cell_type": "code",
   "execution_count": 2,
   "id": "1a6645db-a30f-41ff-b7d8-d7da3d453309",
   "metadata": {},
   "outputs": [],
   "source": [
    "assert config(\"POLYGON_API_KEY\", default=None, cast=str) is not None"
   ]
  },
  {
   "cell_type": "code",
   "execution_count": 3,
   "id": "b3718220-341f-4681-b848-ea1d48c139ae",
   "metadata": {},
   "outputs": [],
   "source": [
    "POLYGON_API_KEY = config(\"POLYGON_API_KEY\", default=None, cast=str)"
   ]
  },
  {
   "cell_type": "code",
   "execution_count": 4,
   "id": "5c0da07d-6ad6-4150-94be-7ed228e26fe3",
   "metadata": {},
   "outputs": [],
   "source": [
    "import requests\n",
    "\n",
    "# check polygon.io api paths formats\n",
    "\n",
    "# polygon api path format = /v2/aggs/ticker/{stocksTicker}/range/{multiplier}/{timespan}/{from}/{to}\n",
    "ticker = \"AAPL\"  # company's symbol in stocks\n",
    "multiplier = \"1\"\n",
    "timespan = \"day\"\n",
    "from_date = \"2024-11-02\"\n",
    "to_date = \"2024-12-29\"\n",
    "path = f\"/v2/aggs/ticker/{ticker}/range/{multiplier}/{timespan}/{from_date}/{to_date}\"\n",
    "url = f\"https://api.polygon.io{path}?apiKey={POLYGON_API_KEY}\"\n",
    "\n",
    "response = requests.get(url)\n",
    "data = response.json()"
   ]
  },
  {
   "cell_type": "code",
   "execution_count": 5,
   "id": "ab2cd23b-8c48-4fe8-b711-cc476d017a64",
   "metadata": {},
   "outputs": [
    {
     "data": {
      "text/plain": [
       "{'v': 40921729.0,\n",
       " 'vw': 221.7547,\n",
       " 'o': 220.99,\n",
       " 'c': 222.01,\n",
       " 'h': 222.79,\n",
       " 'l': 219.71,\n",
       " 't': 1730696400000,\n",
       " 'n': 647102}"
      ]
     },
     "execution_count": 5,
     "metadata": {},
     "output_type": "execute_result"
    }
   ],
   "source": [
    "result = data['results'][0]\n",
    "result"
   ]
  },
  {
   "cell_type": "code",
   "execution_count": 6,
   "id": "639ac6fc-a88f-4708-bc27-99725838ee43",
   "metadata": {},
   "outputs": [
    {
     "data": {
      "text/plain": [
       "{'open_price': 220.99,\n",
       " 'close_price': 222.01,\n",
       " 'high_price': 222.79,\n",
       " 'low_price': 219.71,\n",
       " 'number_of_trades': 647102,\n",
       " 'volume': 40921729.0,\n",
       " 'volume_weighted_average': 221.7547,\n",
       " 'time': datetime.datetime(2024, 11, 4, 5, 0, tzinfo=<UTC>)}"
      ]
     },
     "execution_count": 6,
     "metadata": {},
     "output_type": "execute_result"
    }
   ],
   "source": [
    "from datetime import datetime\n",
    "import pytz\n",
    "\n",
    "def transform_polygon_result(result):\n",
    "    unix_timestamp = result.get('t')/1000\n",
    "    utc_timestamp = datetime.fromtimestamp(unix_timestamp, tz=pytz.timezone(\"UTC\"))\n",
    "    #print(utc_timestamp)\n",
    "    return{\n",
    "        \"open_price\" : result[\"o\"],\n",
    "        \"close_price\" : result[\"c\"],\n",
    "        \"high_price\" : result[\"h\"],\n",
    "        \"low_price\" : result[\"l\"],\n",
    "        \"number_of_trades\" : result[\"n\"],\n",
    "        \"volume\" : result[\"v\"],\n",
    "        \"volume_weighted_average\" : result[\"vw\"],\n",
    "        \"time\" : utc_timestamp,\n",
    "    }\n",
    "\n",
    "transform_polygon_result(result)"
   ]
  },
  {
   "cell_type": "markdown",
   "id": "f6c1e20e-73d1-477d-a4ae-c0775c4f4622",
   "metadata": {},
   "source": [
    "<h2>Create a Custom Polygon API Client</h2>"
   ]
  },
  {
   "cell_type": "code",
   "execution_count": 11,
   "id": "d51a6420-c9e5-4129-9dd2-8bff78e2dab1",
   "metadata": {},
   "outputs": [],
   "source": [
    "from dataclasses import dataclass\n",
    "from typing import Literal\n",
    "from urllib.parse import urlencode\n",
    "\n",
    "POLYGON_API_KEY = config(\"POLYGON_API_KEY\", default=None, cast=str)\n",
    "\n",
    "@dataclass\n",
    "class PolygonAPIClient:\n",
    "    ticker: str = \"AAPL\"  # company's symbol in stocks\n",
    "    multiplier: int = 1\n",
    "    timespan: str = \"day\"\n",
    "    from_date: str = \"2024-11-20\"\n",
    "    to_date: str = \"2024-12-03\"\n",
    "    api_key: str = \"\"\n",
    "    adjusted: bool = True\n",
    "    sort: Literal[\"asc\", \"desc\"] = \"asc\"\n",
    "\n",
    "    def get_api_key(self):\n",
    "        return self.api_key or POLYGON_API_KEY\n",
    "    \n",
    "    def get_headers(self):\n",
    "        api_key = self.get_api_key()\n",
    "        return {\n",
    "            \"Authorization\" : f\"Bearer {api_key}\"\n",
    "        }\n",
    "\n",
    "    def get_params(self):\n",
    "        return {\n",
    "            \"adjusted\" : self.adjusted,\n",
    "            \"sort\" : self.sort\n",
    "        }\n",
    "\n",
    "    def generate_url(self, pass_auth=False):\n",
    "        path = f\"/v2/aggs/ticker/{self.ticker}/range/{self.multiplier}/{self.timespan}/{self.from_date}/{self.to_date}\"\n",
    "        url = f\"https://api.polygon.io{path}\"\n",
    "        params = self.get_params()\n",
    "        encoded_params = urlencode(params)\n",
    "        url = f\"{url}?{encoded_params}\"\n",
    "        if pass_auth:\n",
    "            api_key = self.get_api_key()\n",
    "            url += f\"&apiKey={api_key}\"\n",
    "        return url\n",
    "\n",
    "    def fetch_data(self):\n",
    "        headers = self.get_headers()\n",
    "        url = self.generate_url()\n",
    "        response = requests.get(url, headers=headers)\n",
    "        response.raise_for_status() # not 200/201. Incase there is an error\n",
    "        return response.json()\n",
    "\n",
    "    def get_stock_data(self):\n",
    "        data = self.fetch_data()\n",
    "        results = data[\"results\"]\n",
    "        dataset = []\n",
    "        for result in results:\n",
    "            dataset.append(transform_polygon_result(result))\n",
    "        return dataset"
   ]
  },
  {
   "cell_type": "code",
   "execution_count": 12,
   "id": "b991f953-b6ef-4bff-abb9-b501e4732f4d",
   "metadata": {},
   "outputs": [],
   "source": [
    "stock_api_client = PolygonAPIClient(ticker=\"GOOG\", multiplier=1)"
   ]
  },
  {
   "cell_type": "code",
   "execution_count": 13,
   "id": "99753f2f-b996-4e7c-921c-7b8548aeeee4",
   "metadata": {},
   "outputs": [
    {
     "data": {
      "text/plain": [
       "'https://api.polygon.io/v2/aggs/ticker/GOOG/range/1/day/2024-11-20/2024-12-03?adjusted=True&sort=asc'"
      ]
     },
     "execution_count": 13,
     "metadata": {},
     "output_type": "execute_result"
    }
   ],
   "source": [
    "# stock_api_client.generate_url(pass_auth=True) # appends api key on the link\n",
    "stock_api_client.generate_url()  # gets api key from .env file"
   ]
  },
  {
   "cell_type": "code",
   "execution_count": 14,
   "id": "56c594c2-2f5c-4e24-a7ed-af14984bb5be",
   "metadata": {},
   "outputs": [
    {
     "data": {
      "text/plain": [
       "[{'open_price': 178.83,\n",
       "  'close_price': 177.33,\n",
       "  'high_price': 179.11,\n",
       "  'low_price': 175.33,\n",
       "  'number_of_trades': 191057,\n",
       "  'volume': 14429930.0,\n",
       "  'volume_weighted_average': 176.8894,\n",
       "  'time': datetime.datetime(2024, 11, 20, 5, 0, tzinfo=<UTC>)},\n",
       " {'open_price': 175.455,\n",
       "  'close_price': 169.24,\n",
       "  'high_price': 175.58,\n",
       "  'low_price': 165.31,\n",
       "  'number_of_trades': 531658,\n",
       "  'volume': 36226068.0,\n",
       "  'volume_weighted_average': 168.2341,\n",
       "  'time': datetime.datetime(2024, 11, 21, 5, 0, tzinfo=<UTC>)},\n",
       " {'open_price': 167.16,\n",
       "  'close_price': 166.57,\n",
       "  'high_price': 168.2645,\n",
       "  'low_price': 165.71,\n",
       "  'number_of_trades': 321715,\n",
       "  'volume': 23446733.0,\n",
       "  'volume_weighted_average': 166.8668,\n",
       "  'time': datetime.datetime(2024, 11, 22, 5, 0, tzinfo=<UTC>)},\n",
       " {'open_price': 167.99,\n",
       "  'close_price': 169.43,\n",
       "  'high_price': 170.46,\n",
       "  'low_price': 167.4,\n",
       "  'number_of_trades': 244289,\n",
       "  'volume': 18989585.0,\n",
       "  'volume_weighted_average': 169.2641,\n",
       "  'time': datetime.datetime(2024, 11, 25, 5, 0, tzinfo=<UTC>)},\n",
       " {'open_price': 169.49,\n",
       "  'close_price': 170.62,\n",
       "  'high_price': 171.495,\n",
       "  'low_price': 169.43,\n",
       "  'number_of_trades': 193040,\n",
       "  'volume': 14058215.0,\n",
       "  'volume_weighted_average': 170.604,\n",
       "  'time': datetime.datetime(2024, 11, 26, 5, 0, tzinfo=<UTC>)},\n",
       " {'open_price': 170.68,\n",
       "  'close_price': 170.82,\n",
       "  'high_price': 171.14,\n",
       "  'low_price': 169.67,\n",
       "  'number_of_trades': 151374,\n",
       "  'volume': 11473267.0,\n",
       "  'volume_weighted_average': 170.7127,\n",
       "  'time': datetime.datetime(2024, 11, 27, 5, 0, tzinfo=<UTC>)},\n",
       " {'open_price': 170.06,\n",
       "  'close_price': 170.49,\n",
       "  'high_price': 170.87,\n",
       "  'low_price': 168.75,\n",
       "  'number_of_trades': 106047,\n",
       "  'volume': 8355812.0,\n",
       "  'volume_weighted_average': 170.259,\n",
       "  'time': datetime.datetime(2024, 11, 29, 5, 0, tzinfo=<UTC>)},\n",
       " {'open_price': 170.32,\n",
       "  'close_price': 172.98,\n",
       "  'high_price': 173.6,\n",
       "  'low_price': 170.27,\n",
       "  'number_of_trades': 187821,\n",
       "  'volume': 15404994.0,\n",
       "  'volume_weighted_average': 172.7347,\n",
       "  'time': datetime.datetime(2024, 12, 2, 5, 0, tzinfo=<UTC>)},\n",
       " {'open_price': 173.12,\n",
       "  'close_price': 173.02,\n",
       "  'high_price': 174.32,\n",
       "  'low_price': 172.51,\n",
       "  'number_of_trades': 160590,\n",
       "  'volume': 15157993.0,\n",
       "  'volume_weighted_average': 173.0622,\n",
       "  'time': datetime.datetime(2024, 12, 3, 5, 0, tzinfo=<UTC>)}]"
      ]
     },
     "execution_count": 14,
     "metadata": {},
     "output_type": "execute_result"
    }
   ],
   "source": [
    "dataset = stock_api_client.get_stock_data()\n",
    "dataset"
   ]
  }
 ],
 "metadata": {
  "kernelspec": {
   "display_name": "Python 3 (ipykernel)",
   "language": "python",
   "name": "python3"
  },
  "language_info": {
   "codemirror_mode": {
    "name": "ipython",
    "version": 3
   },
   "file_extension": ".py",
   "mimetype": "text/x-python",
   "name": "python",
   "nbconvert_exporter": "python",
   "pygments_lexer": "ipython3",
   "version": "3.12.3"
  }
 },
 "nbformat": 4,
 "nbformat_minor": 5
}
