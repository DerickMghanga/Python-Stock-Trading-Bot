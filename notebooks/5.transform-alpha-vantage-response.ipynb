{
 "cells": [
  {
   "cell_type": "code",
   "execution_count": 1,
   "id": "27133281-f293-4a6f-b9c8-9996899400e2",
   "metadata": {},
   "outputs": [],
   "source": [
    "from decouple import config"
   ]
  },
  {
   "cell_type": "code",
   "execution_count": 2,
   "id": "36320c76-de90-4952-9ba4-a20da54ee6da",
   "metadata": {},
   "outputs": [],
   "source": [
    "assert config(\"ALPHA_VANTAGE_API_KEY\", default=None, cast=str) is not None"
   ]
  },
  {
   "cell_type": "code",
   "execution_count": 3,
   "id": "1a6645db-a30f-41ff-b7d8-d7da3d453309",
   "metadata": {},
   "outputs": [],
   "source": [
    "ALPHA_VANTAGE_API_KEY = config(\"ALPHA_VANTAGE_API_KEY\", default=None, cast=str)"
   ]
  },
  {
   "cell_type": "code",
   "execution_count": 4,
   "id": "eb7348d2-f927-4a85-ac12-baca9218635e",
   "metadata": {},
   "outputs": [],
   "source": [
    "import requests\n",
    "\n",
    "params = {\n",
    "    \"api_key\" : ALPHA_VANTAGE_API_KEY,\n",
    "    \"ticker\" : \"AAPL\",\n",
    "    \"function\" : \"TIME_SERIES_INTRADAY\"\n",
    "}\n",
    "\n",
    "# replace the \"demo\" apikey below with your own key from https://www.alphavantage.co/support/#api-key\n",
    "url = 'https://www.alphavantage.co/query?function={function}&symbol={ticker}&interval=5min&apikey={api_key}'.format(**params)\n",
    "r = requests.get(url)\n",
    "data = r.json()\n",
    "\n",
    "#data"
   ]
  },
  {
   "cell_type": "code",
   "execution_count": 8,
   "id": "08014a36-af2b-4d36-8795-7331249e30b1",
   "metadata": {},
   "outputs": [
    {
     "data": {
      "text/plain": [
       "'Time Series (5min)'"
      ]
     },
     "execution_count": 8,
     "metadata": {},
     "output_type": "execute_result"
    }
   ],
   "source": [
    "dataset_key = [x for x in list(data.keys()) if not x.lower() == \"meta data\"][0]\n",
    "dataset_key"
   ]
  },
  {
   "cell_type": "code",
   "execution_count": 29,
   "id": "87f0c576-16c6-48c3-b1c3-2efe45e27532",
   "metadata": {},
   "outputs": [],
   "source": [
    "results = data[dataset_key]  # dictionary"
   ]
  },
  {
   "cell_type": "code",
   "execution_count": 24,
   "id": "2006c3f1-c1dd-4ebd-a999-039ac2647533",
   "metadata": {},
   "outputs": [
    {
     "data": {
      "text/plain": [
       "'2024-12-03 19:55:00'"
      ]
     },
     "execution_count": 24,
     "metadata": {},
     "output_type": "execute_result"
    }
   ],
   "source": [
    "timestamp_str = list(results.keys())[0]\n",
    "timestamp_str"
   ]
  },
  {
   "cell_type": "code",
   "execution_count": 25,
   "id": "214eae77-661b-4ddb-942a-6b140ec5a5d4",
   "metadata": {},
   "outputs": [
    {
     "data": {
      "text/plain": [
       "{'1. open': '242.9600',\n",
       " '2. high': '243.0000',\n",
       " '3. low': '242.8700',\n",
       " '4. close': '242.9350',\n",
       " '5. volume': '8813'}"
      ]
     },
     "execution_count": 25,
     "metadata": {},
     "output_type": "execute_result"
    }
   ],
   "source": [
    "result_val = results.get(timestamp_str)\n",
    "result_val"
   ]
  },
  {
   "cell_type": "code",
   "execution_count": 28,
   "id": "7ea4fe8d-96d4-42a9-a72a-3bb56befc655",
   "metadata": {},
   "outputs": [
    {
     "data": {
      "text/plain": [
       "{'open_price': Decimal('242.9600'),\n",
       " 'close_price': Decimal('242.9350'),\n",
       " 'high_price': Decimal('243.0000'),\n",
       " 'low_price': Decimal('242.8700'),\n",
       " 'number_of_trades': None,\n",
       " 'volume': 8813,\n",
       " 'volume_weighted_average': None,\n",
       " 'time': datetime.datetime(2024, 12, 4, 0, 55, tzinfo=<UTC>)}"
      ]
     },
     "execution_count": 28,
     "metadata": {},
     "output_type": "execute_result"
    }
   ],
   "source": [
    "from datetime import datetime\n",
    "import pytz\n",
    "from decimal import Decimal\n",
    "\n",
    "def transform_alpha_vantage_result(timestamp_str, result_val):\n",
    "    #unix_timestamp = result.get('t')/1000\n",
    "    #utc_timestamp = datetime.fromtimestamp(unix_timestamp, tz=pytz.timezone(\"UTC\"))\n",
    "    #print(utc_timestamp)\n",
    "    timestamp_format = \"%Y-%m-%d %H:%M:%S\"\n",
    "    eastern = pytz.timezone(\"US/Eastern\")\n",
    "    utc = pytz.utc\n",
    "    timestamp = eastern.localize(datetime.strptime(timestamp_str, timestamp_format)).astimezone(utc)\n",
    "    # timestamp\n",
    "    return{\n",
    "        \"open_price\" : Decimal(result_val[\"1. open\"]),\n",
    "        \"close_price\" : Decimal(result_val[\"4. close\"]),\n",
    "        \"high_price\" : Decimal(result_val[\"2. high\"]),\n",
    "        \"low_price\" : Decimal(result_val[\"3. low\"]),\n",
    "        \"number_of_trades\" : None,\n",
    "        \"volume\" : int(result_val[\"5. volume\"]),\n",
    "        \"volume_weighted_average\" : None,\n",
    "        \"time\" : timestamp,\n",
    "    }\n",
    "\n",
    "transform_alpha_vantage_result(timestamp_str, result_val)"
   ]
  },
  {
   "cell_type": "code",
   "execution_count": 31,
   "id": "d21dcea6-8db2-40bc-8f2e-93145727ae3f",
   "metadata": {},
   "outputs": [
    {
     "name": "stdout",
     "output_type": "stream",
     "text": [
      "{'open_price': Decimal('242.9600'), 'close_price': Decimal('242.9350'), 'high_price': Decimal('243.0000'), 'low_price': Decimal('242.8700'), 'number_of_trades': None, 'volume': 8813, 'volume_weighted_average': None, 'time': datetime.datetime(2024, 12, 4, 0, 55, tzinfo=<UTC>)}\n",
      "{'open_price': Decimal('242.9681'), 'close_price': Decimal('242.9600'), 'high_price': Decimal('242.9700'), 'low_price': Decimal('242.9300'), 'number_of_trades': None, 'volume': 1523, 'volume_weighted_average': None, 'time': datetime.datetime(2024, 12, 4, 0, 50, tzinfo=<UTC>)}\n",
      "{'open_price': Decimal('242.9000'), 'close_price': Decimal('242.9313'), 'high_price': Decimal('242.9700'), 'low_price': Decimal('242.8400'), 'number_of_trades': None, 'volume': 4167, 'volume_weighted_average': None, 'time': datetime.datetime(2024, 12, 4, 0, 45, tzinfo=<UTC>)}\n",
      "{'open_price': Decimal('242.8700'), 'close_price': Decimal('242.8950'), 'high_price': Decimal('242.9500'), 'low_price': Decimal('242.8200'), 'number_of_trades': None, 'volume': 1295, 'volume_weighted_average': None, 'time': datetime.datetime(2024, 12, 4, 0, 40, tzinfo=<UTC>)}\n",
      "{'open_price': Decimal('242.7750'), 'close_price': Decimal('242.8200'), 'high_price': Decimal('242.9600'), 'low_price': Decimal('242.7450'), 'number_of_trades': None, 'volume': 2146, 'volume_weighted_average': None, 'time': datetime.datetime(2024, 12, 4, 0, 35, tzinfo=<UTC>)}\n",
      "{'open_price': Decimal('242.7900'), 'close_price': Decimal('242.7750'), 'high_price': Decimal('242.8100'), 'low_price': Decimal('242.7300'), 'number_of_trades': None, 'volume': 2653, 'volume_weighted_average': None, 'time': datetime.datetime(2024, 12, 4, 0, 30, tzinfo=<UTC>)}\n",
      "{'open_price': Decimal('242.7700'), 'close_price': Decimal('242.7700'), 'high_price': Decimal('242.8100'), 'low_price': Decimal('242.7300'), 'number_of_trades': None, 'volume': 255, 'volume_weighted_average': None, 'time': datetime.datetime(2024, 12, 4, 0, 25, tzinfo=<UTC>)}\n",
      "{'open_price': Decimal('242.7550'), 'close_price': Decimal('242.7300'), 'high_price': Decimal('242.9000'), 'low_price': Decimal('242.7300'), 'number_of_trades': None, 'volume': 1223, 'volume_weighted_average': None, 'time': datetime.datetime(2024, 12, 4, 0, 20, tzinfo=<UTC>)}\n",
      "{'open_price': Decimal('242.7700'), 'close_price': Decimal('242.7750'), 'high_price': Decimal('242.9000'), 'low_price': Decimal('242.7400'), 'number_of_trades': None, 'volume': 1344, 'volume_weighted_average': None, 'time': datetime.datetime(2024, 12, 4, 0, 15, tzinfo=<UTC>)}\n",
      "{'open_price': Decimal('242.8250'), 'close_price': Decimal('242.7650'), 'high_price': Decimal('242.8600'), 'low_price': Decimal('242.7400'), 'number_of_trades': None, 'volume': 682, 'volume_weighted_average': None, 'time': datetime.datetime(2024, 12, 4, 0, 10, tzinfo=<UTC>)}\n",
      "{'open_price': Decimal('242.8100'), 'close_price': Decimal('242.8250'), 'high_price': Decimal('242.9000'), 'low_price': Decimal('242.7000'), 'number_of_trades': None, 'volume': 907, 'volume_weighted_average': None, 'time': datetime.datetime(2024, 12, 4, 0, 5, tzinfo=<UTC>)}\n",
      "{'open_price': Decimal('242.8000'), 'close_price': Decimal('242.8000'), 'high_price': Decimal('242.9600'), 'low_price': Decimal('242.7000'), 'number_of_trades': None, 'volume': 1052, 'volume_weighted_average': None, 'time': datetime.datetime(2024, 12, 4, 0, 0, tzinfo=<UTC>)}\n",
      "{'open_price': Decimal('242.8600'), 'close_price': Decimal('242.8800'), 'high_price': Decimal('242.9000'), 'low_price': Decimal('242.8000'), 'number_of_trades': None, 'volume': 1830, 'volume_weighted_average': None, 'time': datetime.datetime(2024, 12, 3, 23, 55, tzinfo=<UTC>)}\n",
      "{'open_price': Decimal('242.8700'), 'close_price': Decimal('242.9100'), 'high_price': Decimal('242.9600'), 'low_price': Decimal('242.8000'), 'number_of_trades': None, 'volume': 1208, 'volume_weighted_average': None, 'time': datetime.datetime(2024, 12, 3, 23, 50, tzinfo=<UTC>)}\n",
      "{'open_price': Decimal('242.8200'), 'close_price': Decimal('242.8700'), 'high_price': Decimal('242.9700'), 'low_price': Decimal('242.8000'), 'number_of_trades': None, 'volume': 1097, 'volume_weighted_average': None, 'time': datetime.datetime(2024, 12, 3, 23, 45, tzinfo=<UTC>)}\n",
      "{'open_price': Decimal('242.8100'), 'close_price': Decimal('242.7300'), 'high_price': Decimal('243.0000'), 'low_price': Decimal('242.7000'), 'number_of_trades': None, 'volume': 15769, 'volume_weighted_average': None, 'time': datetime.datetime(2024, 12, 3, 23, 40, tzinfo=<UTC>)}\n",
      "{'open_price': Decimal('242.7050'), 'close_price': Decimal('242.7850'), 'high_price': Decimal('242.9000'), 'low_price': Decimal('242.6500'), 'number_of_trades': None, 'volume': 2167, 'volume_weighted_average': None, 'time': datetime.datetime(2024, 12, 3, 23, 35, tzinfo=<UTC>)}\n",
      "{'open_price': Decimal('242.7400'), 'close_price': Decimal('242.7000'), 'high_price': Decimal('242.7600'), 'low_price': Decimal('242.6500'), 'number_of_trades': None, 'volume': 301, 'volume_weighted_average': None, 'time': datetime.datetime(2024, 12, 3, 23, 30, tzinfo=<UTC>)}\n",
      "{'open_price': Decimal('242.7600'), 'close_price': Decimal('242.7250'), 'high_price': Decimal('242.7800'), 'low_price': Decimal('242.6900'), 'number_of_trades': None, 'volume': 1235, 'volume_weighted_average': None, 'time': datetime.datetime(2024, 12, 3, 23, 25, tzinfo=<UTC>)}\n",
      "{'open_price': Decimal('242.7500'), 'close_price': Decimal('242.7600'), 'high_price': Decimal('242.7600'), 'low_price': Decimal('242.6900'), 'number_of_trades': None, 'volume': 1963, 'volume_weighted_average': None, 'time': datetime.datetime(2024, 12, 3, 23, 20, tzinfo=<UTC>)}\n",
      "{'open_price': Decimal('242.6500'), 'close_price': Decimal('242.7500'), 'high_price': Decimal('242.8100'), 'low_price': Decimal('242.6500'), 'number_of_trades': None, 'volume': 995, 'volume_weighted_average': None, 'time': datetime.datetime(2024, 12, 3, 23, 15, tzinfo=<UTC>)}\n",
      "{'open_price': Decimal('242.7000'), 'close_price': Decimal('242.7300'), 'high_price': Decimal('242.8100'), 'low_price': Decimal('242.6300'), 'number_of_trades': None, 'volume': 525, 'volume_weighted_average': None, 'time': datetime.datetime(2024, 12, 3, 23, 10, tzinfo=<UTC>)}\n",
      "{'open_price': Decimal('242.6600'), 'close_price': Decimal('242.6600'), 'high_price': Decimal('242.8100'), 'low_price': Decimal('242.6000'), 'number_of_trades': None, 'volume': 1058, 'volume_weighted_average': None, 'time': datetime.datetime(2024, 12, 3, 23, 5, tzinfo=<UTC>)}\n",
      "{'open_price': Decimal('242.8000'), 'close_price': Decimal('242.6700'), 'high_price': Decimal('242.8200'), 'low_price': Decimal('242.6100'), 'number_of_trades': None, 'volume': 5376, 'volume_weighted_average': None, 'time': datetime.datetime(2024, 12, 3, 23, 0, tzinfo=<UTC>)}\n",
      "{'open_price': Decimal('242.8225'), 'close_price': Decimal('242.8100'), 'high_price': Decimal('242.9200'), 'low_price': Decimal('242.8100'), 'number_of_trades': None, 'volume': 1231, 'volume_weighted_average': None, 'time': datetime.datetime(2024, 12, 3, 22, 55, tzinfo=<UTC>)}\n",
      "{'open_price': Decimal('242.8600'), 'close_price': Decimal('242.8700'), 'high_price': Decimal('242.9200'), 'low_price': Decimal('242.8000'), 'number_of_trades': None, 'volume': 2630, 'volume_weighted_average': None, 'time': datetime.datetime(2024, 12, 3, 22, 50, tzinfo=<UTC>)}\n",
      "{'open_price': Decimal('242.8250'), 'close_price': Decimal('242.8600'), 'high_price': Decimal('242.8600'), 'low_price': Decimal('242.8000'), 'number_of_trades': None, 'volume': 814, 'volume_weighted_average': None, 'time': datetime.datetime(2024, 12, 3, 22, 45, tzinfo=<UTC>)}\n",
      "{'open_price': Decimal('242.7600'), 'close_price': Decimal('242.8200'), 'high_price': Decimal('242.8300'), 'low_price': Decimal('242.7200'), 'number_of_trades': None, 'volume': 1408, 'volume_weighted_average': None, 'time': datetime.datetime(2024, 12, 3, 22, 40, tzinfo=<UTC>)}\n",
      "{'open_price': Decimal('242.7400'), 'close_price': Decimal('242.7500'), 'high_price': Decimal('242.8000'), 'low_price': Decimal('242.6500'), 'number_of_trades': None, 'volume': 124015, 'volume_weighted_average': None, 'time': datetime.datetime(2024, 12, 3, 22, 35, tzinfo=<UTC>)}\n",
      "{'open_price': Decimal('242.7150'), 'close_price': Decimal('242.7500'), 'high_price': Decimal('242.8000'), 'low_price': Decimal('242.6800'), 'number_of_trades': None, 'volume': 1634, 'volume_weighted_average': None, 'time': datetime.datetime(2024, 12, 3, 22, 30, tzinfo=<UTC>)}\n",
      "{'open_price': Decimal('242.7150'), 'close_price': Decimal('242.7150'), 'high_price': Decimal('242.7500'), 'low_price': Decimal('242.6800'), 'number_of_trades': None, 'volume': 1740, 'volume_weighted_average': None, 'time': datetime.datetime(2024, 12, 3, 22, 25, tzinfo=<UTC>)}\n",
      "{'open_price': Decimal('242.7800'), 'close_price': Decimal('242.7400'), 'high_price': Decimal('242.8000'), 'low_price': Decimal('242.6800'), 'number_of_trades': None, 'volume': 1786, 'volume_weighted_average': None, 'time': datetime.datetime(2024, 12, 3, 22, 20, tzinfo=<UTC>)}\n",
      "{'open_price': Decimal('242.8000'), 'close_price': Decimal('242.7800'), 'high_price': Decimal('242.8600'), 'low_price': Decimal('226.0800'), 'number_of_trades': None, 'volume': 2162, 'volume_weighted_average': None, 'time': datetime.datetime(2024, 12, 3, 22, 15, tzinfo=<UTC>)}\n",
      "{'open_price': Decimal('242.7300'), 'close_price': Decimal('242.8000'), 'high_price': Decimal('242.8100'), 'low_price': Decimal('242.7200'), 'number_of_trades': None, 'volume': 3031, 'volume_weighted_average': None, 'time': datetime.datetime(2024, 12, 3, 22, 10, tzinfo=<UTC>)}\n",
      "{'open_price': Decimal('242.8300'), 'close_price': Decimal('242.7600'), 'high_price': Decimal('250.0154'), 'low_price': Decimal('242.6600'), 'number_of_trades': None, 'volume': 2707, 'volume_weighted_average': None, 'time': datetime.datetime(2024, 12, 3, 22, 5, tzinfo=<UTC>)}\n",
      "{'open_price': Decimal('242.8300'), 'close_price': Decimal('242.8500'), 'high_price': Decimal('258.8842'), 'low_price': Decimal('242.8000'), 'number_of_trades': None, 'volume': 1844, 'volume_weighted_average': None, 'time': datetime.datetime(2024, 12, 3, 22, 0, tzinfo=<UTC>)}\n",
      "{'open_price': Decimal('242.8300'), 'close_price': Decimal('242.8300'), 'high_price': Decimal('258.8842'), 'low_price': Decimal('242.8000'), 'number_of_trades': None, 'volume': 1088, 'volume_weighted_average': None, 'time': datetime.datetime(2024, 12, 3, 21, 55, tzinfo=<UTC>)}\n",
      "{'open_price': Decimal('242.8600'), 'close_price': Decimal('242.8350'), 'high_price': Decimal('242.9000'), 'low_price': Decimal('242.8000'), 'number_of_trades': None, 'volume': 2486, 'volume_weighted_average': None, 'time': datetime.datetime(2024, 12, 3, 21, 50, tzinfo=<UTC>)}\n",
      "{'open_price': Decimal('242.8900'), 'close_price': Decimal('242.8900'), 'high_price': Decimal('242.9200'), 'low_price': Decimal('242.6500'), 'number_of_trades': None, 'volume': 617487, 'volume_weighted_average': None, 'time': datetime.datetime(2024, 12, 3, 21, 45, tzinfo=<UTC>)}\n",
      "{'open_price': Decimal('242.9100'), 'close_price': Decimal('242.8900'), 'high_price': Decimal('242.9600'), 'low_price': Decimal('242.6500'), 'number_of_trades': None, 'volume': 38648, 'volume_weighted_average': None, 'time': datetime.datetime(2024, 12, 3, 21, 40, tzinfo=<UTC>)}\n",
      "{'open_price': Decimal('242.9000'), 'close_price': Decimal('242.9100'), 'high_price': Decimal('242.9600'), 'low_price': Decimal('242.6500'), 'number_of_trades': None, 'volume': 33684, 'volume_weighted_average': None, 'time': datetime.datetime(2024, 12, 3, 21, 35, tzinfo=<UTC>)}\n",
      "{'open_price': Decimal('242.9050'), 'close_price': Decimal('242.9000'), 'high_price': Decimal('242.9500'), 'low_price': Decimal('242.6500'), 'number_of_trades': None, 'volume': 148779, 'volume_weighted_average': None, 'time': datetime.datetime(2024, 12, 3, 21, 30, tzinfo=<UTC>)}\n",
      "{'open_price': Decimal('242.7300'), 'close_price': Decimal('242.9050'), 'high_price': Decimal('242.9500'), 'low_price': Decimal('242.7000'), 'number_of_trades': None, 'volume': 11725, 'volume_weighted_average': None, 'time': datetime.datetime(2024, 12, 3, 21, 25, tzinfo=<UTC>)}\n",
      "{'open_price': Decimal('242.6500'), 'close_price': Decimal('242.7800'), 'high_price': Decimal('242.7800'), 'low_price': Decimal('242.6200'), 'number_of_trades': None, 'volume': 37918, 'volume_weighted_average': None, 'time': datetime.datetime(2024, 12, 3, 21, 20, tzinfo=<UTC>)}\n",
      "{'open_price': Decimal('242.5500'), 'close_price': Decimal('242.6500'), 'high_price': Decimal('242.7400'), 'low_price': Decimal('242.4800'), 'number_of_trades': None, 'volume': 27942, 'volume_weighted_average': None, 'time': datetime.datetime(2024, 12, 3, 21, 15, tzinfo=<UTC>)}\n",
      "{'open_price': Decimal('242.5600'), 'close_price': Decimal('242.5500'), 'high_price': Decimal('242.7000'), 'low_price': Decimal('242.4000'), 'number_of_trades': None, 'volume': 644007, 'volume_weighted_average': None, 'time': datetime.datetime(2024, 12, 3, 21, 10, tzinfo=<UTC>)}\n",
      "{'open_price': Decimal('242.6600'), 'close_price': Decimal('242.6500'), 'high_price': Decimal('242.7500'), 'low_price': Decimal('242.5000'), 'number_of_trades': None, 'volume': 94612, 'volume_weighted_average': None, 'time': datetime.datetime(2024, 12, 3, 21, 5, tzinfo=<UTC>)}\n",
      "{'open_price': Decimal('242.6300'), 'close_price': Decimal('242.6700'), 'high_price': Decimal('242.7200'), 'low_price': Decimal('241.9272'), 'number_of_trades': None, 'volume': 15217304, 'volume_weighted_average': None, 'time': datetime.datetime(2024, 12, 3, 21, 0, tzinfo=<UTC>)}\n",
      "{'open_price': Decimal('242.4650'), 'close_price': Decimal('242.6300'), 'high_price': Decimal('242.7600'), 'low_price': Decimal('242.4100'), 'number_of_trades': None, 'volume': 1676327, 'volume_weighted_average': None, 'time': datetime.datetime(2024, 12, 3, 20, 55, tzinfo=<UTC>)}\n",
      "{'open_price': Decimal('242.3900'), 'close_price': Decimal('242.4650'), 'high_price': Decimal('242.5100'), 'low_price': Decimal('242.1500'), 'number_of_trades': None, 'volume': 688177, 'volume_weighted_average': None, 'time': datetime.datetime(2024, 12, 3, 20, 50, tzinfo=<UTC>)}\n",
      "{'open_price': Decimal('242.3400'), 'close_price': Decimal('242.3900'), 'high_price': Decimal('242.4900'), 'low_price': Decimal('242.3020'), 'number_of_trades': None, 'volume': 434153, 'volume_weighted_average': None, 'time': datetime.datetime(2024, 12, 3, 20, 45, tzinfo=<UTC>)}\n",
      "{'open_price': Decimal('242.3050'), 'close_price': Decimal('242.3500'), 'high_price': Decimal('242.3500'), 'low_price': Decimal('242.1800'), 'number_of_trades': None, 'volume': 321183, 'volume_weighted_average': None, 'time': datetime.datetime(2024, 12, 3, 20, 40, tzinfo=<UTC>)}\n",
      "{'open_price': Decimal('242.3250'), 'close_price': Decimal('242.3018'), 'high_price': Decimal('242.3800'), 'low_price': Decimal('242.2700'), 'number_of_trades': None, 'volume': 260142, 'volume_weighted_average': None, 'time': datetime.datetime(2024, 12, 3, 20, 35, tzinfo=<UTC>)}\n",
      "{'open_price': Decimal('242.0600'), 'close_price': Decimal('242.3100'), 'high_price': Decimal('242.3999'), 'low_price': Decimal('242.0600'), 'number_of_trades': None, 'volume': 324250, 'volume_weighted_average': None, 'time': datetime.datetime(2024, 12, 3, 20, 30, tzinfo=<UTC>)}\n",
      "{'open_price': Decimal('241.9150'), 'close_price': Decimal('242.0600'), 'high_price': Decimal('242.1100'), 'low_price': Decimal('241.8800'), 'number_of_trades': None, 'volume': 283071, 'volume_weighted_average': None, 'time': datetime.datetime(2024, 12, 3, 20, 25, tzinfo=<UTC>)}\n",
      "{'open_price': Decimal('241.9700'), 'close_price': Decimal('241.9200'), 'high_price': Decimal('242.0600'), 'low_price': Decimal('241.8800'), 'number_of_trades': None, 'volume': 232746, 'volume_weighted_average': None, 'time': datetime.datetime(2024, 12, 3, 20, 20, tzinfo=<UTC>)}\n",
      "{'open_price': Decimal('241.9400'), 'close_price': Decimal('241.9700'), 'high_price': Decimal('241.9800'), 'low_price': Decimal('241.8400'), 'number_of_trades': None, 'volume': 273716, 'volume_weighted_average': None, 'time': datetime.datetime(2024, 12, 3, 20, 15, tzinfo=<UTC>)}\n",
      "{'open_price': Decimal('242.2500'), 'close_price': Decimal('241.9401'), 'high_price': Decimal('242.3200'), 'low_price': Decimal('241.9100'), 'number_of_trades': None, 'volume': 358389, 'volume_weighted_average': None, 'time': datetime.datetime(2024, 12, 3, 20, 10, tzinfo=<UTC>)}\n",
      "{'open_price': Decimal('242.1800'), 'close_price': Decimal('242.2500'), 'high_price': Decimal('242.2750'), 'low_price': Decimal('242.1100'), 'number_of_trades': None, 'volume': 205864, 'volume_weighted_average': None, 'time': datetime.datetime(2024, 12, 3, 20, 5, tzinfo=<UTC>)}\n",
      "{'open_price': Decimal('242.3800'), 'close_price': Decimal('242.1700'), 'high_price': Decimal('242.3800'), 'low_price': Decimal('242.1700'), 'number_of_trades': None, 'volume': 270227, 'volume_weighted_average': None, 'time': datetime.datetime(2024, 12, 3, 20, 0, tzinfo=<UTC>)}\n",
      "{'open_price': Decimal('242.3779'), 'close_price': Decimal('242.3800'), 'high_price': Decimal('242.4550'), 'low_price': Decimal('242.3500'), 'number_of_trades': None, 'volume': 289714, 'volume_weighted_average': None, 'time': datetime.datetime(2024, 12, 3, 19, 55, tzinfo=<UTC>)}\n",
      "{'open_price': Decimal('242.2514'), 'close_price': Decimal('242.3750'), 'high_price': Decimal('242.4600'), 'low_price': Decimal('242.2250'), 'number_of_trades': None, 'volume': 398854, 'volume_weighted_average': None, 'time': datetime.datetime(2024, 12, 3, 19, 50, tzinfo=<UTC>)}\n",
      "{'open_price': Decimal('242.1150'), 'close_price': Decimal('242.2550'), 'high_price': Decimal('242.2600'), 'low_price': Decimal('242.0700'), 'number_of_trades': None, 'volume': 180522, 'volume_weighted_average': None, 'time': datetime.datetime(2024, 12, 3, 19, 45, tzinfo=<UTC>)}\n",
      "{'open_price': Decimal('242.1900'), 'close_price': Decimal('242.1183'), 'high_price': Decimal('242.2300'), 'low_price': Decimal('242.0800'), 'number_of_trades': None, 'volume': 222771, 'volume_weighted_average': None, 'time': datetime.datetime(2024, 12, 3, 19, 40, tzinfo=<UTC>)}\n",
      "{'open_price': Decimal('242.1650'), 'close_price': Decimal('242.1850'), 'high_price': Decimal('242.1900'), 'low_price': Decimal('242.1300'), 'number_of_trades': None, 'volume': 204698, 'volume_weighted_average': None, 'time': datetime.datetime(2024, 12, 3, 19, 35, tzinfo=<UTC>)}\n",
      "{'open_price': Decimal('242.1550'), 'close_price': Decimal('242.1650'), 'high_price': Decimal('242.1900'), 'low_price': Decimal('242.0600'), 'number_of_trades': None, 'volume': 354044, 'volume_weighted_average': None, 'time': datetime.datetime(2024, 12, 3, 19, 30, tzinfo=<UTC>)}\n",
      "{'open_price': Decimal('242.0650'), 'close_price': Decimal('242.1500'), 'high_price': Decimal('242.1700'), 'low_price': Decimal('242.0000'), 'number_of_trades': None, 'volume': 285030, 'volume_weighted_average': None, 'time': datetime.datetime(2024, 12, 3, 19, 25, tzinfo=<UTC>)}\n",
      "{'open_price': Decimal('241.9700'), 'close_price': Decimal('242.0600'), 'high_price': Decimal('242.0800'), 'low_price': Decimal('241.9100'), 'number_of_trades': None, 'volume': 435161, 'volume_weighted_average': None, 'time': datetime.datetime(2024, 12, 3, 19, 20, tzinfo=<UTC>)}\n",
      "{'open_price': Decimal('241.9750'), 'close_price': Decimal('241.9800'), 'high_price': Decimal('242.0200'), 'low_price': Decimal('241.7650'), 'number_of_trades': None, 'volume': 260441, 'volume_weighted_average': None, 'time': datetime.datetime(2024, 12, 3, 19, 15, tzinfo=<UTC>)}\n",
      "{'open_price': Decimal('241.8900'), 'close_price': Decimal('241.9718'), 'high_price': Decimal('242.0650'), 'low_price': Decimal('241.8400'), 'number_of_trades': None, 'volume': 587678, 'volume_weighted_average': None, 'time': datetime.datetime(2024, 12, 3, 19, 10, tzinfo=<UTC>)}\n",
      "{'open_price': Decimal('241.7050'), 'close_price': Decimal('241.8900'), 'high_price': Decimal('241.9350'), 'low_price': Decimal('241.7000'), 'number_of_trades': None, 'volume': 323582, 'volume_weighted_average': None, 'time': datetime.datetime(2024, 12, 3, 19, 5, tzinfo=<UTC>)}\n",
      "{'open_price': Decimal('241.7250'), 'close_price': Decimal('241.7052'), 'high_price': Decimal('241.7750'), 'low_price': Decimal('241.6700'), 'number_of_trades': None, 'volume': 194026, 'volume_weighted_average': None, 'time': datetime.datetime(2024, 12, 3, 19, 0, tzinfo=<UTC>)}\n",
      "{'open_price': Decimal('241.7100'), 'close_price': Decimal('241.7250'), 'high_price': Decimal('241.7700'), 'low_price': Decimal('241.6600'), 'number_of_trades': None, 'volume': 141533, 'volume_weighted_average': None, 'time': datetime.datetime(2024, 12, 3, 18, 55, tzinfo=<UTC>)}\n",
      "{'open_price': Decimal('241.6599'), 'close_price': Decimal('241.7183'), 'high_price': Decimal('241.7800'), 'low_price': Decimal('241.6501'), 'number_of_trades': None, 'volume': 137718, 'volume_weighted_average': None, 'time': datetime.datetime(2024, 12, 3, 18, 50, tzinfo=<UTC>)}\n",
      "{'open_price': Decimal('241.6600'), 'close_price': Decimal('241.6500'), 'high_price': Decimal('241.7950'), 'low_price': Decimal('241.5812'), 'number_of_trades': None, 'volume': 199247, 'volume_weighted_average': None, 'time': datetime.datetime(2024, 12, 3, 18, 45, tzinfo=<UTC>)}\n",
      "{'open_price': Decimal('241.6700'), 'close_price': Decimal('241.6650'), 'high_price': Decimal('241.7199'), 'low_price': Decimal('241.6100'), 'number_of_trades': None, 'volume': 177818, 'volume_weighted_average': None, 'time': datetime.datetime(2024, 12, 3, 18, 40, tzinfo=<UTC>)}\n",
      "{'open_price': Decimal('241.7400'), 'close_price': Decimal('241.6650'), 'high_price': Decimal('241.8255'), 'low_price': Decimal('241.6200'), 'number_of_trades': None, 'volume': 264618, 'volume_weighted_average': None, 'time': datetime.datetime(2024, 12, 3, 18, 35, tzinfo=<UTC>)}\n",
      "{'open_price': Decimal('241.4200'), 'close_price': Decimal('241.7300'), 'high_price': Decimal('241.7400'), 'low_price': Decimal('241.3400'), 'number_of_trades': None, 'volume': 304770, 'volume_weighted_average': None, 'time': datetime.datetime(2024, 12, 3, 18, 30, tzinfo=<UTC>)}\n",
      "{'open_price': Decimal('241.5850'), 'close_price': Decimal('241.4200'), 'high_price': Decimal('241.6700'), 'low_price': Decimal('241.4200'), 'number_of_trades': None, 'volume': 224472, 'volume_weighted_average': None, 'time': datetime.datetime(2024, 12, 3, 18, 25, tzinfo=<UTC>)}\n",
      "{'open_price': Decimal('241.4200'), 'close_price': Decimal('241.5750'), 'high_price': Decimal('241.6000'), 'low_price': Decimal('241.4100'), 'number_of_trades': None, 'volume': 142357, 'volume_weighted_average': None, 'time': datetime.datetime(2024, 12, 3, 18, 20, tzinfo=<UTC>)}\n",
      "{'open_price': Decimal('241.3450'), 'close_price': Decimal('241.4150'), 'high_price': Decimal('241.4466'), 'low_price': Decimal('241.3200'), 'number_of_trades': None, 'volume': 146489, 'volume_weighted_average': None, 'time': datetime.datetime(2024, 12, 3, 18, 15, tzinfo=<UTC>)}\n",
      "{'open_price': Decimal('241.5450'), 'close_price': Decimal('241.3400'), 'high_price': Decimal('241.5650'), 'low_price': Decimal('241.3300'), 'number_of_trades': None, 'volume': 178869, 'volume_weighted_average': None, 'time': datetime.datetime(2024, 12, 3, 18, 10, tzinfo=<UTC>)}\n",
      "{'open_price': Decimal('241.5850'), 'close_price': Decimal('241.5450'), 'high_price': Decimal('241.5990'), 'low_price': Decimal('241.4900'), 'number_of_trades': None, 'volume': 154726, 'volume_weighted_average': None, 'time': datetime.datetime(2024, 12, 3, 18, 5, tzinfo=<UTC>)}\n",
      "{'open_price': Decimal('241.6601'), 'close_price': Decimal('241.5850'), 'high_price': Decimal('241.6979'), 'low_price': Decimal('241.5500'), 'number_of_trades': None, 'volume': 160463, 'volume_weighted_average': None, 'time': datetime.datetime(2024, 12, 3, 18, 0, tzinfo=<UTC>)}\n",
      "{'open_price': Decimal('241.6550'), 'close_price': Decimal('241.6686'), 'high_price': Decimal('241.6950'), 'low_price': Decimal('241.5701'), 'number_of_trades': None, 'volume': 159724, 'volume_weighted_average': None, 'time': datetime.datetime(2024, 12, 3, 17, 55, tzinfo=<UTC>)}\n",
      "{'open_price': Decimal('241.6700'), 'close_price': Decimal('241.6600'), 'high_price': Decimal('241.6899'), 'low_price': Decimal('241.5500'), 'number_of_trades': None, 'volume': 176217, 'volume_weighted_average': None, 'time': datetime.datetime(2024, 12, 3, 17, 50, tzinfo=<UTC>)}\n",
      "{'open_price': Decimal('241.4950'), 'close_price': Decimal('241.6700'), 'high_price': Decimal('241.7000'), 'low_price': Decimal('241.4900'), 'number_of_trades': None, 'volume': 190213, 'volume_weighted_average': None, 'time': datetime.datetime(2024, 12, 3, 17, 45, tzinfo=<UTC>)}\n",
      "{'open_price': Decimal('241.1900'), 'close_price': Decimal('241.4900'), 'high_price': Decimal('241.5200'), 'low_price': Decimal('241.1700'), 'number_of_trades': None, 'volume': 191757, 'volume_weighted_average': None, 'time': datetime.datetime(2024, 12, 3, 17, 40, tzinfo=<UTC>)}\n",
      "{'open_price': Decimal('241.2200'), 'close_price': Decimal('241.1900'), 'high_price': Decimal('241.2550'), 'low_price': Decimal('241.1700'), 'number_of_trades': None, 'volume': 154028, 'volume_weighted_average': None, 'time': datetime.datetime(2024, 12, 3, 17, 35, tzinfo=<UTC>)}\n",
      "{'open_price': Decimal('241.2650'), 'close_price': Decimal('241.2250'), 'high_price': Decimal('241.2800'), 'low_price': Decimal('241.1400'), 'number_of_trades': None, 'volume': 278225, 'volume_weighted_average': None, 'time': datetime.datetime(2024, 12, 3, 17, 30, tzinfo=<UTC>)}\n",
      "{'open_price': Decimal('241.3800'), 'close_price': Decimal('241.2650'), 'high_price': Decimal('241.3898'), 'low_price': Decimal('241.2100'), 'number_of_trades': None, 'volume': 261549, 'volume_weighted_average': None, 'time': datetime.datetime(2024, 12, 3, 17, 25, tzinfo=<UTC>)}\n",
      "{'open_price': Decimal('241.4900'), 'close_price': Decimal('241.3700'), 'high_price': Decimal('241.4900'), 'low_price': Decimal('241.3500'), 'number_of_trades': None, 'volume': 177100, 'volume_weighted_average': None, 'time': datetime.datetime(2024, 12, 3, 17, 20, tzinfo=<UTC>)}\n",
      "{'open_price': Decimal('241.4100'), 'close_price': Decimal('241.4802'), 'high_price': Decimal('241.5550'), 'low_price': Decimal('241.3750'), 'number_of_trades': None, 'volume': 187284, 'volume_weighted_average': None, 'time': datetime.datetime(2024, 12, 3, 17, 15, tzinfo=<UTC>)}\n",
      "{'open_price': Decimal('241.5654'), 'close_price': Decimal('241.4100'), 'high_price': Decimal('241.5699'), 'low_price': Decimal('241.3800'), 'number_of_trades': None, 'volume': 207368, 'volume_weighted_average': None, 'time': datetime.datetime(2024, 12, 3, 17, 10, tzinfo=<UTC>)}\n",
      "{'open_price': Decimal('241.4750'), 'close_price': Decimal('241.5500'), 'high_price': Decimal('241.6187'), 'low_price': Decimal('241.4700'), 'number_of_trades': None, 'volume': 162581, 'volume_weighted_average': None, 'time': datetime.datetime(2024, 12, 3, 17, 5, tzinfo=<UTC>)}\n",
      "{'open_price': Decimal('241.4100'), 'close_price': Decimal('241.4801'), 'high_price': Decimal('241.6350'), 'low_price': Decimal('241.3600'), 'number_of_trades': None, 'volume': 315139, 'volume_weighted_average': None, 'time': datetime.datetime(2024, 12, 3, 17, 0, tzinfo=<UTC>)}\n",
      "{'open_price': Decimal('241.4901'), 'close_price': Decimal('241.4100'), 'high_price': Decimal('241.5000'), 'low_price': Decimal('241.3300'), 'number_of_trades': None, 'volume': 259819, 'volume_weighted_average': None, 'time': datetime.datetime(2024, 12, 3, 16, 55, tzinfo=<UTC>)}\n",
      "{'open_price': Decimal('241.3833'), 'close_price': Decimal('241.4950'), 'high_price': Decimal('241.5400'), 'low_price': Decimal('241.3200'), 'number_of_trades': None, 'volume': 353097, 'volume_weighted_average': None, 'time': datetime.datetime(2024, 12, 3, 16, 50, tzinfo=<UTC>)}\n",
      "{'open_price': Decimal('241.2200'), 'close_price': Decimal('241.3850'), 'high_price': Decimal('241.4150'), 'low_price': Decimal('241.1950'), 'number_of_trades': None, 'volume': 294848, 'volume_weighted_average': None, 'time': datetime.datetime(2024, 12, 3, 16, 45, tzinfo=<UTC>)}\n",
      "{'open_price': Decimal('241.0800'), 'close_price': Decimal('241.2200'), 'high_price': Decimal('241.2800'), 'low_price': Decimal('241.0400'), 'number_of_trades': None, 'volume': 259250, 'volume_weighted_average': None, 'time': datetime.datetime(2024, 12, 3, 16, 40, tzinfo=<UTC>)}\n"
     ]
    }
   ],
   "source": [
    "for times_stamp in results.keys():\n",
    "    x = transform_alpha_vantage_result(times_stamp, results.get(times_stamp))\n",
    "    print(x)"
   ]
  }
 ],
 "metadata": {
  "kernelspec": {
   "display_name": "Python 3 (ipykernel)",
   "language": "python",
   "name": "python3"
  },
  "language_info": {
   "codemirror_mode": {
    "name": "ipython",
    "version": 3
   },
   "file_extension": ".py",
   "mimetype": "text/x-python",
   "name": "python",
   "nbconvert_exporter": "python",
   "pygments_lexer": "ipython3",
   "version": "3.12.3"
  }
 },
 "nbformat": 4,
 "nbformat_minor": 5
}
